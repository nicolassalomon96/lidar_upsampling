{
 "cells": [
  {
   "cell_type": "code",
   "execution_count": 1,
   "metadata": {},
   "outputs": [
    {
     "name": "stdout",
     "output_type": "stream",
     "text": [
      "Total distance images: 5000\n",
      "Train distance images: 4500\n",
      "Validation distance images: 500\n"
     ]
    }
   ],
   "source": [
    "import numpy as np\n",
    "import matplotlib.pyplot as plt\n",
    "import os\n",
    "import torch\n",
    "import torch.nn as nn\n",
    "import torch.nn.functional as F\n",
    "from tqdm import tqdm\n",
    "from data_gen_distance import *\n",
    "from pointcloud_utils_functions_v2 import *\n",
    "device = \"cuda\" if torch.cuda.is_available() else \"cpu\"\n",
    "#device = 'cpu'"
   ]
  },
  {
   "cell_type": "markdown",
   "metadata": {},
   "source": [
    "### Generador de Train y Valid"
   ]
  },
  {
   "cell_type": "code",
   "execution_count": 2,
   "metadata": {},
   "outputs": [],
   "source": [
    "class IterDataset(torch.utils.data.IterableDataset):\n",
    "    def __init__(self, generator):\n",
    "        self.generator = generator\n",
    "\n",
    "    def __iter__(self):\n",
    "        return self.generator()\n",
    "    \n",
    "train_dataset = IterDataset(train_data_generator)\n",
    "valid_dataset = IterDataset(valid_data_generator)"
   ]
  },
  {
   "cell_type": "markdown",
   "metadata": {},
   "source": [
    "### Custom Convolutional Layer"
   ]
  },
  {
   "cell_type": "code",
   "execution_count": 3,
   "metadata": {},
   "outputs": [],
   "source": [
    "class Upsampling_Conv(nn.Module):\n",
    "    def __init__(self, upsampling_factor=2, n_channels=1, padding=(0,1), stride=(1,1)): \n",
    "        #padding:(agregar n filas, agregar n columnas)\n",
    "        #stride(de a cuantas filas me muevo:de a cuantas columnas me muevo)\n",
    "        super(Upsampling_Conv, self).__init__()\n",
    "\n",
    "        self.kernel_size = (2,3)\n",
    "        self.padding = padding\n",
    "        self.stride = stride\n",
    "        self.n_channels = n_channels\n",
    "        self.upsamplig_factor = upsampling_factor\n",
    "        self.distance_kernel_x2 = torch.tensor([torch.sqrt(torch.tensor(2)), 1, torch.sqrt(torch.tensor(2)), torch.sqrt(torch.tensor(2)), 1, torch.sqrt(torch.tensor(2))], device=device) #Distancias Euclídeas para un kernel de 3x3 desde un pixel central de posición (1,1)\n",
    "                                                                                                                           #sin considerar los píxeles (1,0) y (1,2) porque esos son los nuevos píxeles a calcular también\n",
    "        self.distance_kernel_up = torch.tensor([torch.sqrt(torch.tensor(2)), 1, torch.sqrt(torch.tensor(2)), torch.sqrt(torch.tensor(10)), 3, torch.sqrt(torch.tensor(10))], device=device)\n",
    "        self.distance_kernel_mid = torch.tensor([torch.sqrt(torch.tensor(5)), 2, torch.sqrt(torch.tensor(5)), torch.sqrt(torch.tensor(5)), 2, torch.sqrt(torch.tensor(5))], device=device) \n",
    "        self.distance_kernel_down = torch.tensor([torch.sqrt(torch.tensor(10)), 3, torch.sqrt(torch.tensor(10)), torch.sqrt(torch.tensor(2)), 1, torch.sqrt(torch.tensor(2))], device=device)  \n",
    "        #self.lambda_wi = nn.Parameter(torch.tensor([0.5]))\n",
    "        self.lambda_wi = nn.Parameter(torch.randn(()))\n",
    "        self.a = nn.Parameter(torch.randn(()))\n",
    "        self.b = nn.Parameter(torch.randn(()))\n",
    "        self.c = nn.Parameter(torch.randn(()))\n",
    "        #self.d = nn.Parameter(torch.randn(()))\n",
    "   \n",
    "    def forward(self, x):\n",
    "\n",
    "        n_batches = x.shape[0]\n",
    "        height = x.shape[2] * self.upsamplig_factor\n",
    "        width = x.shape[3]\n",
    "        result = torch.zeros([n_batches, self.n_channels, height, width], dtype=torch.float32, device=device)\n",
    "\n",
    "        if self.upsamplig_factor == 2:\n",
    "            even_raw_id = torch.arange(0, result.shape[2], 2)\n",
    "            odd_raw_id = torch.arange(1, result.shape[2]-1, 2) #El -1 soluciona el problema que causa la última fila de la imagen resultante, al no poser ser escaneada por la convolución\n",
    "\n",
    "            pixels = self.get_NewPixelsValues(x) #pixels = [batch, 1, filas, columnas]\n",
    "\n",
    "            result[:,:,even_raw_id,:] = x\n",
    "            result[:,:,odd_raw_id,:] = pixels\n",
    "            result = torch.dstack((result[:,:,:-1,:], x[:,:,-1:,:])) #Repito la última fila\n",
    "            #print(result.shape)\n",
    "            #result[:,:,-1,:] = x[:,:,-1,:]       \n",
    "\n",
    "        elif self.upsamplig_factor == 4:\n",
    "            x_raw_id = torch.arange(0, result.shape[2], 4) #Filas en matriz result ocupadas por valores originales de x\n",
    "            #new_raw_id = torch.arange(0,result.shape[2],1)[torch.arange(0,result.shape[2],1) % 4 != 0] #Filas en matriz result ocupadas por valores interpolados\n",
    "            up_raw_id = torch.arange(1,result.shape[2]-3,4) #Filas en matriz result ocupadas por valores interpolados de pixeles superiores, considerando que para interpolar x4 se necesitan 3 nuevos valores\n",
    "            mid_raw_id = torch.arange(2,result.shape[2]-3,4) #Filas en matriz result ocupadas por valores interpolados de pixeles intermedios, considerando que para interpolar x4 se necesitan 3 nuevos valores\n",
    "            down_raw_id = torch.arange(3,result.shape[2]-3,4) #Filas en matriz result ocupadas por valores interpolados de pixeles inferiores, considerando que para interpolar x4 se necesitan 3 nuevos valores\n",
    "            \n",
    "            pixels = self.get_NewPixelsValues(x)\n",
    "\n",
    "            result[:,:,x_raw_id,:] = x\n",
    "            #result[:,:,-3:,:] = x[:,:,-1,:] #Últimas 3 filas iguales\n",
    "            result = torch.dstack((result[:,:,:-3,:], x[:,:,-1:,:], x[:,:,-1:,:], x[:,:,-1:,:])) #Últimas 3 filas iguales\n",
    "            result[:,:,up_raw_id,:] = pixels[0]\n",
    "            result[:,:,mid_raw_id,:] = pixels[1]\n",
    "            result[:,:,down_raw_id,:] = pixels[2]\n",
    "            \n",
    "        else:\n",
    "            print(\"ERROR: Wrong Upsampling factor\")\n",
    "        return result  \n",
    "    \n",
    "    def weight_function(self, kernel, distance_kernel):\n",
    "        nonzero_pos = [kernel != 0][0].type(torch.int)\n",
    "        #print(self.lambda_wi.device, self.distance_kernel.device, kernel.device, nonzero_pos.device)\n",
    "        #y =  (self.a * distance_kernel + self.b * distance_kernel**2 + self.c * distance_kernel**3 + self.d * distance_kernel**4) * (2 / (1 + torch.exp(kernel - torch.min(kernel)))) * nonzero_pos #Solo considero los valores que cumplen la condición de que sean mayores que 0\n",
    "        #y =  (1 + self.a * distance_kernel + (self.a * distance_kernel**2) / 2 + (self.a * distance_kernel**3) / 6 + (self.a * distance_kernel**4) / 24) * (2 / (1 + torch.exp(kernel - torch.min(kernel)))) * nonzero_pos #Solo considero los valores que cumplen la condición de que sean mayores que 0\n",
    "        y =  torch.exp(-self.lambda_wi*distance_kernel) * (1/(self.a * distance_kernel + self.b * distance_kernel**2 + self.c * distance_kernel**3)) * nonzero_pos #Solo considero los valores que cumplen la condición de que sean mayores que 0\n",
    "        return y\n",
    "\n",
    "    def get_NewPixelsValues(self, x):\n",
    "        windows = F.unfold(x, kernel_size=self.kernel_size, padding=self.padding, stride=self.stride)\n",
    "        windows = windows.transpose(1, 2) #Obtener los valores de la ventana o kernel ordenados por fila, donde cada fila representa una ventana serializada\n",
    "\n",
    "        if self.upsamplig_factor == 2:\n",
    "            #print(self.distance_kernel_up.shape, windows.shape)\n",
    "            wi = self.weight_function(windows, self.distance_kernel_x2)\n",
    "            pixels_value_num = torch.multiply(windows, wi).sum(2) #Sumar todos los elementos de una fila para obtener el valor final del pixel\n",
    "            pixels_value_den = torch.sum(wi, dim=2)\n",
    "            pixels_value_den[pixels_value_den == 0] = 1 #Control para evitar errores en la división\n",
    "            pixels = pixels_value_num/pixels_value_den\n",
    "            pixels = pixels.view(x.shape[0], x.shape[1], -1, x.shape[-1])\n",
    "\n",
    "        elif self.upsamplig_factor == 4:\n",
    "            #print(self.distance_kernel_up.shape, windows.shape)\n",
    "            wi_up = self.weight_function(windows, self.distance_kernel_up)\n",
    "            wi_mid = self.weight_function(windows, self.distance_kernel_mid)\n",
    "            wi_down = self.weight_function(windows, self.distance_kernel_down)\n",
    "            \n",
    "            pixels_value_num_up = torch.multiply(windows, wi_up).sum(2) #Sumar todos los elementos de una fila para obtener el valor final del pixel\n",
    "            pixels_value_num_mid = torch.multiply(windows, wi_mid).sum(2)\n",
    "            pixels_value_num_down = torch.multiply(windows, wi_down).sum(2)\n",
    "\n",
    "            pixels_value_den_up = torch.sum(wi_up, dim=2)\n",
    "            pixels_value_den_mid = torch.sum(wi_mid, dim=2)\n",
    "            pixels_value_den_down = torch.sum(wi_down, dim=2)\n",
    "\n",
    "            pixels_value_den_up[pixels_value_den_up == 0] = 1 #Control para evitar errores en la división\n",
    "            pixels_value_den_mid[pixels_value_den_mid == 0] = 1 #Control para evitar errores en la división\n",
    "            pixels_value_den_down[pixels_value_den_down == 0] = 1 #Control para evitar errores en la división\n",
    "\n",
    "            pixels_up = (pixels_value_num_up/pixels_value_den_up).view(x.shape[0], x.shape[1], -1, x.shape[-1])\n",
    "            pixels_mid = (pixels_value_num_mid/pixels_value_den_mid).view(x.shape[0], x.shape[1], -1, x.shape[-1])\n",
    "            pixels_down = (pixels_value_num_down/pixels_value_den_down).view(x.shape[0], x.shape[1], -1, x.shape[-1])\n",
    "            \n",
    "            pixels = [pixels_up, pixels_mid, pixels_down]\n",
    "\n",
    "        else:\n",
    "            print(\"ERROR: Wrong Upsampling factor\") \n",
    "        return pixels\n",
    "\n",
    "    def string(self):\n",
    "        return f'a = {self.a.item()} - b = {self.b.item()} - c = {self.c.item()}'\n",
    "        #return f'a = {self.a.item()}'\n"
   ]
  },
  {
   "cell_type": "markdown",
   "metadata": {},
   "source": [
    "### Entorno de entrenamiento"
   ]
  },
  {
   "cell_type": "code",
   "execution_count": 4,
   "metadata": {},
   "outputs": [
    {
     "name": "stderr",
     "output_type": "stream",
     "text": [
      "36it [00:06,  5.54it/s]\n"
     ]
    },
    {
     "name": "stdout",
     "output_type": "stream",
     "text": [
      "Epoch 1 - Train_loss: 2.0924044913715787 - Valid_loss: 2.284802198410034 - a = -2.127570629119873 - b = -0.869560718536377 - c = -0.49663442373275757\n"
     ]
    },
    {
     "name": "stderr",
     "output_type": "stream",
     "text": [
      "36it [00:06,  5.70it/s]\n"
     ]
    },
    {
     "name": "stdout",
     "output_type": "stream",
     "text": [
      "Epoch 2 - Train_loss: 2.110214995013343 - Valid_loss: 2.163029193878174 - a = -2.073009729385376 - b = -1.1311770677566528 - c = -0.5246952772140503\n"
     ]
    },
    {
     "name": "stderr",
     "output_type": "stream",
     "text": [
      "36it [00:06,  5.30it/s]\n"
     ]
    },
    {
     "name": "stdout",
     "output_type": "stream",
     "text": [
      "Epoch 3 - Train_loss: 2.1070963508552976 - Valid_loss: 2.21303653717041 - a = -1.9972703456878662 - b = -1.3774323463439941 - c = -0.5545976758003235\n"
     ]
    },
    {
     "name": "stderr",
     "output_type": "stream",
     "text": [
      "36it [00:06,  5.26it/s]\n"
     ]
    },
    {
     "name": "stdout",
     "output_type": "stream",
     "text": [
      "Epoch 4 - Train_loss: 2.1271571848127575 - Valid_loss: 2.227329730987549 - a = -1.9179351329803467 - b = -1.6128650903701782 - c = -0.5728989243507385\n"
     ]
    },
    {
     "name": "stderr",
     "output_type": "stream",
     "text": [
      "36it [00:06,  5.33it/s]\n"
     ]
    },
    {
     "name": "stdout",
     "output_type": "stream",
     "text": [
      "Epoch 5 - Train_loss: 2.124281926287545 - Valid_loss: 2.153221845626831 - a = -1.8188215494155884 - b = -1.8411201238632202 - c = -0.5974465608596802\n"
     ]
    },
    {
     "name": "stderr",
     "output_type": "stream",
     "text": [
      "36it [00:06,  5.43it/s]\n"
     ]
    },
    {
     "name": "stdout",
     "output_type": "stream",
     "text": [
      "Epoch 6 - Train_loss: 2.1052588986025915 - Valid_loss: 2.239117383956909 - a = -1.71297025680542 - b = -2.051976203918457 - c = -0.6189622282981873\n"
     ]
    },
    {
     "name": "stderr",
     "output_type": "stream",
     "text": [
      "36it [00:06,  5.41it/s]\n"
     ]
    },
    {
     "name": "stdout",
     "output_type": "stream",
     "text": [
      "Epoch 7 - Train_loss: 2.1555471089151172 - Valid_loss: 2.2062277793884277 - a = -1.5946029424667358 - b = -2.2456870079040527 - c = -0.6432105898857117\n"
     ]
    },
    {
     "name": "stderr",
     "output_type": "stream",
     "text": [
      "36it [00:06,  5.57it/s]\n"
     ]
    },
    {
     "name": "stdout",
     "output_type": "stream",
     "text": [
      "Epoch 8 - Train_loss: 2.115753733449512 - Valid_loss: 2.1696979999542236 - a = -1.4607996940612793 - b = -2.4190175533294678 - c = -0.6737602353096008\n"
     ]
    },
    {
     "name": "stderr",
     "output_type": "stream",
     "text": [
      "36it [00:06,  5.37it/s]\n"
     ]
    },
    {
     "name": "stdout",
     "output_type": "stream",
     "text": [
      "Epoch 9 - Train_loss: 2.130656192700068 - Valid_loss: 2.217179775238037 - a = -1.3269891738891602 - b = -2.582942485809326 - c = -0.6956720948219299\n"
     ]
    },
    {
     "name": "stderr",
     "output_type": "stream",
     "text": [
      "36it [00:06,  5.42it/s]\n"
     ]
    },
    {
     "name": "stdout",
     "output_type": "stream",
     "text": [
      "Epoch 10 - Train_loss: 2.1325404279761844 - Valid_loss: 2.2451443672180176 - a = -1.1766592264175415 - b = -2.73006010055542 - c = -0.7217016816139221\n"
     ]
    },
    {
     "name": "stderr",
     "output_type": "stream",
     "text": [
      "36it [00:06,  5.55it/s]\n"
     ]
    },
    {
     "name": "stdout",
     "output_type": "stream",
     "text": [
      "Epoch 11 - Train_loss: 2.1350245442655353 - Valid_loss: 2.194835662841797 - a = -1.0090744495391846 - b = -2.8563075065612793 - c = -0.7516798973083496\n"
     ]
    },
    {
     "name": "stderr",
     "output_type": "stream",
     "text": [
      "36it [00:06,  5.42it/s]\n"
     ]
    },
    {
     "name": "stdout",
     "output_type": "stream",
     "text": [
      "Epoch 12 - Train_loss: 2.1223098072740765 - Valid_loss: 2.162341833114624 - a = -0.8475257754325867 - b = -2.9706785678863525 - c = -0.7710740566253662\n"
     ]
    },
    {
     "name": "stderr",
     "output_type": "stream",
     "text": [
      "36it [00:06,  5.31it/s]\n"
     ]
    },
    {
     "name": "stdout",
     "output_type": "stream",
     "text": [
      "Epoch 13 - Train_loss: 2.1282398998737335 - Valid_loss: 2.1675772666931152 - a = -0.6457627415657043 - b = -3.0409815311431885 - c = -0.8101681470870972\n"
     ]
    },
    {
     "name": "stderr",
     "output_type": "stream",
     "text": [
      "36it [00:06,  5.27it/s]\n"
     ]
    },
    {
     "name": "stdout",
     "output_type": "stream",
     "text": [
      "Epoch 14 - Train_loss: 2.107651972108417 - Valid_loss: 2.1828129291534424 - a = -0.4495526850223541 - b = -3.1035959720611572 - c = -0.8343106508255005\n"
     ]
    },
    {
     "name": "stderr",
     "output_type": "stream",
     "text": [
      "36it [00:06,  5.39it/s]\n"
     ]
    },
    {
     "name": "stdout",
     "output_type": "stream",
     "text": [
      "Epoch 15 - Train_loss: 2.100442114803526 - Valid_loss: 2.163486957550049 - a = -0.23146261274814606 - b = -3.1327078342437744 - c = -0.859074056148529\n"
     ]
    },
    {
     "name": "stderr",
     "output_type": "stream",
     "text": [
      "36it [00:06,  5.46it/s]\n"
     ]
    },
    {
     "name": "stdout",
     "output_type": "stream",
     "text": [
      "Epoch 16 - Train_loss: 2.144504600101047 - Valid_loss: 2.2150301933288574 - a = 0.027273181825876236 - b = -3.094815969467163 - c = -0.894025444984436\n"
     ]
    },
    {
     "name": "stderr",
     "output_type": "stream",
     "text": [
      "36it [00:06,  5.45it/s]\n"
     ]
    },
    {
     "name": "stdout",
     "output_type": "stream",
     "text": [
      "Epoch 17 - Train_loss: 2.1208826667732663 - Valid_loss: 2.2377095222473145 - a = 0.30127638578414917 - b = -3.008861541748047 - c = -0.9216808080673218\n"
     ]
    },
    {
     "name": "stderr",
     "output_type": "stream",
     "text": [
      "36it [00:06,  5.55it/s]\n"
     ]
    },
    {
     "name": "stdout",
     "output_type": "stream",
     "text": [
      "Epoch 18 - Train_loss: 2.116948071453306 - Valid_loss: 2.212456226348877 - a = 0.5933833122253418 - b = -2.877577543258667 - c = -0.9335631728172302\n"
     ]
    },
    {
     "name": "stderr",
     "output_type": "stream",
     "text": [
      "36it [00:06,  5.42it/s]\n"
     ]
    },
    {
     "name": "stdout",
     "output_type": "stream",
     "text": [
      "Epoch 19 - Train_loss: 2.113910893599192 - Valid_loss: 2.142801284790039 - a = 0.9583412408828735 - b = -2.613746166229248 - c = -0.9378865361213684\n"
     ]
    },
    {
     "name": "stderr",
     "output_type": "stream",
     "text": [
      "36it [00:06,  5.44it/s]\n"
     ]
    },
    {
     "name": "stdout",
     "output_type": "stream",
     "text": [
      "Epoch 20 - Train_loss: 2.1197729806105294 - Valid_loss: 2.1531620025634766 - a = 1.4100197553634644 - b = -2.2027242183685303 - c = -0.8957809805870056\n",
      "Best a: 0.9583412408828735, b: -2.613746166229248, c: -0.9378865361213684, lambda_wi: -0.6202806234359741 - Valid_loss: 2.142801284790039 - Epoch: 19\n"
     ]
    }
   ],
   "source": [
    "class myNet(nn.Module):\n",
    "    def __init__(self): \n",
    "        super(myNet, self).__init__()\n",
    "        self.custom_up_layer_1 = Upsampling_Conv()\n",
    "        self.custom_up_layer_2 = Upsampling_Conv()\n",
    "        \n",
    "    def forward(self, input):\n",
    "        x =  self.custom_up_layer_1(input)\n",
    "        output = self.custom_up_layer_2(x)\n",
    "        return output\n",
    "\n",
    "batch_size = 128\n",
    "train_dataloader = torch.utils.data.DataLoader(train_dataset, batch_size=batch_size)\n",
    "valid_dataloader = torch.utils.data.DataLoader(valid_dataset, batch_size=batch_size)\n",
    "\n",
    "#model = myNet()\n",
    "model = Upsampling_Conv(upsampling_factor=4)\n",
    "model.to(device)\n",
    "\n",
    "loss_fn = torch.nn.L1Loss()\n",
    "#loss_fn = torch.nn.MSELoss()\n",
    "optimizer = torch.optim.Adam(model.parameters(), lr=0.01)\n",
    "\n",
    "def train_one_epoch(epoch_index):\n",
    "    running_loss = 0\n",
    "\n",
    "    for i, data in enumerate(tqdm(train_dataloader)):\n",
    "    #for i, data in enumerate(train_dataloader):\n",
    "        lrimgs, hrimgs = data\n",
    "        lrimgs = lrimgs.to(device)\n",
    "        hrimgs = hrimgs.to(device)\n",
    "\n",
    "        # Zero your gradients for every batch!\n",
    "        optimizer.zero_grad()\n",
    "\n",
    "        # Make predictions for this batch\n",
    "        outputs = model(lrimgs)\n",
    "        \n",
    "        # Compute the loss and its gradients\n",
    "        #print(outputs.shape, labels.shape)\n",
    "\n",
    "        loss = loss_fn(outputs, hrimgs)\n",
    "        loss.backward()\n",
    "\n",
    "        # Adjust learning weights\n",
    "        optimizer.step()\n",
    "\n",
    "        # Gather data and report\n",
    "        running_loss += loss.item()\n",
    "\n",
    "    return running_loss / (i + 1)\n",
    "\n",
    "epoch_number = 0\n",
    "EPOCHS = 20\n",
    "\n",
    "for epoch in range(EPOCHS):\n",
    "\n",
    "    # Make sure gradient tracking is on, and do a pass over the data\n",
    "    model.train(True)\n",
    "    avg_loss = train_one_epoch(epoch_number)\n",
    "\n",
    "    # We don't need gradients on to do reporting\n",
    "    model.train(False) #Evaluation\n",
    "    running_vloss = 0.0\n",
    "    with torch.no_grad():\n",
    "        for i, vdata in enumerate(valid_dataloader):\n",
    "            vinputs, vlabels = vdata\n",
    "            vinputs, vlabels = vinputs.to(device), vlabels.to(device)\n",
    "            voutputs = model(vinputs)\n",
    "            vloss = loss_fn(voutputs, vlabels)\n",
    "            running_vloss += vloss\n",
    "    avg_vloss = running_vloss / (i + 1)\n",
    "\n",
    "    #print(f'Epoch {epoch_number + 1} - Train_loss: {avg_loss} - Valid_loss: {avg_vloss} - Result_layer_1: {model.custom_up_layer_1.string()}')\n",
    "    print(f'Epoch {epoch_number + 1} - Train_loss: {avg_loss} - Valid_loss: {avg_vloss} - {model.string()}')\n",
    "\n",
    "    # Track best performance, and save the best model parameter\n",
    "    if epoch == 0:\n",
    "        best_vloss = avg_vloss\n",
    "    else:\n",
    "        if avg_vloss < best_vloss:\n",
    "            best_vloss = avg_vloss\n",
    "            best_lambda_wi = model.lambda_wi.item()\n",
    "            best_a = model.a.item()\n",
    "            best_b = model.b.item()\n",
    "            best_c = model.c.item()\n",
    "            #best_d = model.d.item()\n",
    "            best_epoch = epoch_number + 1\n",
    "    #    model_path = 'model_{}_{}'.format(timestamp, epoch_number)\n",
    "    #    torch.save(model.state_dict(), model_path)\n",
    "\n",
    "    epoch_number += 1\n",
    "\n",
    "#print(f'Best a: {best_a}, b: {best_b}, c: {best_c}, d: {best_d} - Valid_loss: {best_vloss} - Epoch: {best_epoch}')\n",
    "#print(f'Best a: {best_a} - Valid_loss: {best_vloss} - Epoch: {best_epoch}')\n",
    "print(f'Best a: {best_a}, b: {best_b}, c: {best_c}, lambda_wi: {best_lambda_wi} - Valid_loss: {best_vloss} - Epoch: {best_epoch}')\n"
   ]
  },
  {
   "cell_type": "markdown",
   "metadata": {},
   "source": [
    "### Testing"
   ]
  },
  {
   "cell_type": "code",
   "execution_count": 5,
   "metadata": {},
   "outputs": [
    {
     "data": {
      "text/plain": [
       "'a = 0.9583412408828735 - b = -2.613746166229248 - c = -0.9378865361213684'"
      ]
     },
     "execution_count": 5,
     "metadata": {},
     "output_type": "execute_result"
    }
   ],
   "source": [
    "def test(model, lr_image, hr_image):\n",
    "    with torch.no_grad():\n",
    "        model.eval()\n",
    "        #model.a, model.b, model.c, model.d = nn.Parameter(torch.tensor([0.16966518759727478], device=device)), nn.Parameter(torch.tensor([-1.011946439743042], device=device)), nn.Parameter(torch.tensor([-1.1847543716430664], device=device)), nn.Parameter(torch.tensor([-0.10164390504360199], device=device))\n",
    "        model.a = nn.Parameter(torch.tensor([0.9583412408828735], device=device))\n",
    "        model.b = nn.Parameter(torch.tensor([-2.613746166229248], device=device))\n",
    "        model.c = nn.Parameter(torch.tensor([-0.9378865361213684], device=device))\n",
    "        model.lambda_wi = nn.Parameter(torch.tensor([-0.6202806234359741], device=device))\n",
    "        lr_image = lr_image.to(device)\n",
    "        hr_image = hr_image.to(device)\n",
    "        outputs = model(lr_image)\n",
    "\n",
    "        mse = F.mse_loss(outputs, hr_image)\n",
    "    \n",
    "    return outputs, mse\n",
    "\n",
    "test_bin_PATH = r'D:\\Nicolas\\Posgrado\\Trabajos y Tesis\\LIDAR\\Datasets LIDAR\\kitti\\kitti_3d_object\\testing\\velodyne\\000001.bin'\n",
    "#test_PATH = r'D:\\Nicolas\\Posgrado\\Trabajos y Tesis\\LIDAR\\Datasets LIDAR\\kitti\\range_images_64ch_1024_filter_ego_motion\\drive_0001_0000000000.npy'\n",
    "pointcloud = read_bin(test_bin_PATH)\n",
    "hr_range_distance_image = pointcloud_to_range_image(pointcloud, filter_ego_compensed=True, kind='distance', size=(64,1024))\n",
    "#hr_range_distance_image = np.load(test_PATH)\n",
    "\n",
    "downsampling_factor = 4\n",
    "ind = np.arange(0,64,downsampling_factor)\n",
    "lr_range_distance_image = hr_range_distance_image[ind] / kitti_max_distance\n",
    "hr_range_distance_image = hr_range_distance_image / kitti_max_distance\n",
    "lr_range_distance_image = torch.from_numpy(lr_range_distance_image).view(1,1,lr_range_distance_image.shape[0],lr_range_distance_image.shape[1])\n",
    "hr_range_distance_image = torch.from_numpy(hr_range_distance_image).view(1,1,hr_range_distance_image.shape[0],hr_range_distance_image.shape[1])\n",
    "\n",
    "output, mse = test(model, lr_range_distance_image, hr_range_distance_image)\n",
    "output_image_format = output.cpu().numpy()[0][0]\n",
    "model.string()\n"
   ]
  },
  {
   "cell_type": "code",
   "execution_count": 6,
   "metadata": {},
   "outputs": [
    {
     "data": {
      "image/png": "[encoded data removed]",
      "text/plain": [
       "<Figure size 2000x800 with 1 Axes>"
      ]
     },
     "metadata": {},
     "output_type": "display_data"
    }
   ],
   "source": [
    "plt.figure(figsize=(20,8))\n",
    "plt.imshow(output_image_format, cmap='jet')\n",
    "plt.show()"
   ]
  },
  {
   "cell_type": "code",
   "execution_count": 7,
   "metadata": {},
   "outputs": [],
   "source": [
    "io.imsave(r'D:\\Nicolas\\Posgrado\\Trabajos y Tesis\\LIDAR\\LIDAR_super_resolution\\Scripts\\evaluacion_resultados\\nubes_de_puntos\\test_error_range_images\\paper_poly.tif', output_image_format)"
   ]
  },
  {
   "cell_type": "markdown",
   "metadata": {},
   "source": [
    "### Guardar Nube de Puntos"
   ]
  },
  {
   "cell_type": "code",
   "execution_count": 9,
   "metadata": {},
   "outputs": [],
   "source": [
    "pointcloud = range_image_to_pointcloud(output_image_format * kitti_max_distance)\n",
    "\n",
    "save_PATH = r'D:\\Nicolas\\Posgrado\\Trabajos y Tesis\\LIDAR\\LIDAR_super_resolution\\Scripts\\evaluacion_resultados\\nubes_de_puntos\\ego_motion_filtered\\a.ply'\n",
    "save_ply(pointcloud, save_PATH)"
   ]
  }
 ],
 "metadata": {
  "kernelspec": {
   "display_name": "Python 3.9.12 ('gan_train')",
   "language": "python",
   "name": "python3"
  },
  "language_info": {
   "codemirror_mode": {
    "name": "ipython",
    "version": 3
   },
   "file_extension": ".py",
   "mimetype": "text/x-python",
   "name": "python",
   "nbconvert_exporter": "python",
   "pygments_lexer": "ipython3",
   "version": "3.9.12"
  },
  "orig_nbformat": 4,
  "vscode": {
   "interpreter": {
    "hash": "66c0af5d28438b24b9b60edb56077e2a79968ab2fdf6c76b0b9657ef9787fdb5"
   }
  }
 },
 "nbformat": 4,
 "nbformat_minor": 2
}
