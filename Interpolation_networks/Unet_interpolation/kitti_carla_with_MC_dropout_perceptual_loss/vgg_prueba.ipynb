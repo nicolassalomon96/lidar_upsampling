{
 "cells": [
  {
   "cell_type": "code",
   "execution_count": 2,
   "metadata": {},
   "outputs": [],
   "source": [
    "import numpy as np\n",
    "import matplotlib.pyplot as plt\n",
    "import tensorflow as tf\n",
    "from tensorflow import keras\n",
    "import os\n",
    "import imageio.v2 as io\n",
    "import cv2\n"
   ]
  },
  {
   "cell_type": "code",
   "execution_count": 13,
   "metadata": {},
   "outputs": [
    {
     "name": "stdout",
     "output_type": "stream",
     "text": [
      "Model: \"model_10\"\n",
      "_________________________________________________________________\n",
      " Layer (type)                Output Shape              Param #   \n",
      "=================================================================\n",
      " input_12 (InputLayer)       [(None, 64, 1024, 3)]     0         \n",
      "                                                                 \n",
      " block1_conv1 (Conv2D)       (None, 64, 1024, 64)      1792      \n",
      "                                                                 \n",
      " block1_conv2 (Conv2D)       (None, 64, 1024, 64)      36928     \n",
      "                                                                 \n",
      " block1_pool (MaxPooling2D)  (None, 32, 512, 64)       0         \n",
      "                                                                 \n",
      " block2_conv1 (Conv2D)       (None, 32, 512, 128)      73856     \n",
      "                                                                 \n",
      " block2_conv2 (Conv2D)       (None, 32, 512, 128)      147584    \n",
      "                                                                 \n",
      " block2_pool (MaxPooling2D)  (None, 16, 256, 128)      0         \n",
      "                                                                 \n",
      " block3_conv1 (Conv2D)       (None, 16, 256, 256)      295168    \n",
      "                                                                 \n",
      " block3_conv2 (Conv2D)       (None, 16, 256, 256)      590080    \n",
      "                                                                 \n",
      "=================================================================\n",
      "Total params: 1,145,408\n",
      "Trainable params: 0\n",
      "Non-trainable params: 1,145,408\n",
      "_________________________________________________________________\n"
     ]
    }
   ],
   "source": [
    "### Create Loss Model (VGG16) ###\n",
    "selectedLayers = range(9) #Primeras 8 capas hasta ReLu3_3\n",
    "vgg_model = tf.keras.applications.vgg16.VGG16(include_top=False, weights='imagenet', input_shape=(64, 1024, 3))\n",
    "selectedOutputs = [vgg_model.layers[i].output for i in selectedLayers]\n",
    "vgg = keras.Model(inputs=vgg_model.inputs, outputs=selectedOutputs)\n",
    "\n",
    "for layer in vgg.layers:\n",
    "    layer.trainable = False\n",
    "\n",
    "vgg.summary()"
   ]
  },
  {
   "cell_type": "code",
   "execution_count": 46,
   "metadata": {},
   "outputs": [],
   "source": [
    "y_true = io.imread(r'D:\\Nicolas\\Posgrado\\Trabajos y Tesis\\LIDAR\\LIDAR_super_resolution\\Scripts\\unet\\5_merge_distante_intensity\\kitti_3d_test_range_images\\hr_d_0000.tif') / 120\n",
    "y_true = cv2.cvtColor(y_true, cv2.COLOR_GRAY2RGB)\n",
    "\n",
    "y_pred = io.imread(r'D:\\Nicolas\\Posgrado\\Trabajos y Tesis\\LIDAR\\LIDAR_super_resolution\\Scripts\\unet\\5_merge_distante_intensity\\kitti_3d_test_range_images\\hr_d_0000.tif') / 120\n",
    "y_pred = cv2.cvtColor(y_pred, cv2.COLOR_GRAY2RGB) \n",
    "\n",
    "y_true = np.zeros((64,1024,3)) \n",
    "y_pred = np.ones((64,1024,3))\n",
    "\n",
    "out_true = vgg(np.array([y_true]))\n",
    "out_pred = vgg(np.array([y_pred]))\n"
   ]
  },
  {
   "cell_type": "code",
   "execution_count": 68,
   "metadata": {},
   "outputs": [
    {
     "name": "stdout",
     "output_type": "stream",
     "text": [
      "tf.Tensor(0.029772023, shape=(), dtype=float32)\n"
     ]
    }
   ],
   "source": [
    "perceptual_loss = 0.01 * tf.reduce_mean((out_pred[7] - out_true[7]) ** 2)\n",
    "print(perceptual_loss)\n"
   ]
  },
  {
   "cell_type": "code",
   "execution_count": 1,
   "metadata": {},
   "outputs": [],
   "source": [
    "import numpy as np"
   ]
  }
 ],
 "metadata": {
  "kernelspec": {
   "display_name": "Python 3.9.12 ('gan_train')",
   "language": "python",
   "name": "python3"
  },
  "language_info": {
   "codemirror_mode": {
    "name": "ipython",
    "version": 3
   },
   "file_extension": ".py",
   "mimetype": "text/x-python",
   "name": "python",
   "nbconvert_exporter": "python",
   "pygments_lexer": "ipython3",
   "version": "3.9.12"
  },
  "orig_nbformat": 4,
  "vscode": {
   "interpreter": {
    "hash": "66c0af5d28438b24b9b60edb56077e2a79968ab2fdf6c76b0b9657ef9787fdb5"
   }
  }
 },
 "nbformat": 4,
 "nbformat_minor": 2
}
