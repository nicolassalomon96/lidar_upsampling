{
 "cells": [
  {
   "cell_type": "code",
   "execution_count": 1,
   "metadata": {},
   "outputs": [
    {
     "name": "stdout",
     "output_type": "stream",
     "text": [
      "****************************************\n",
      "Input image resolution: 16 x 1024 x 2\n",
      "Output image resolution: 64 x 1024 x 2\n",
      "Upscaling factor: x4\n",
      "****************************************\n"
     ]
    }
   ],
   "source": [
    "import sys\n",
    "sys.path.append(r'D:\\Nicolas\\Posgrado\\Trabajos y Tesis\\LIDAR\\LIDAR_super_resolution\\Scripts\\main\\main_16to64\\utils')\n",
    "from pointcloud_utils_functions_v2 import *\n",
    "from unet_model import *\n",
    "from config import *\n",
    "from eval_fuctions import *"
   ]
  },
  {
   "cell_type": "code",
   "execution_count": 2,
   "metadata": {},
   "outputs": [],
   "source": [
    "folder_PATH = r'D:\\Nicolas\\Posgrado\\Trabajos y Tesis\\LIDAR' #Root folder\n",
    "\n",
    "lr_distance_folder = os.path.join(folder_PATH, r'Datasets LIDAR\\kitti\\range_images_16ch')\n",
    "hr_distance_folder = os.path.join(folder_PATH, r'Datasets LIDAR\\kitti\\range_images_64ch') \n",
    "\n",
    "lr_intensity_folder = os.path.join(folder_PATH, r'Datasets LIDAR\\kitti\\range_images_intensity_16ch') \n",
    "hr_intensity_folder = os.path.join(folder_PATH, r'Datasets LIDAR\\kitti\\range_images_intensity_64ch')\n",
    "\n",
    "lr_distance_names = os.listdir(lr_distance_folder)\n",
    "hr_distance_names = os.listdir(hr_distance_folder)\n",
    "\n",
    "lr_intensity_names = os.listdir(lr_intensity_folder)\n",
    "hr_intensity_names = os.listdir(hr_intensity_folder)"
   ]
  },
  {
   "cell_type": "code",
   "execution_count": 8,
   "metadata": {},
   "outputs": [],
   "source": [
    "new_folder_16ch_PATH = os.path.join(folder_PATH, r'Datasets LIDAR\\kitti\\range_distance_intensity_16ch')\n",
    "if not os.path.exists(new_folder_16ch_PATH):\n",
    "    os.makedirs(new_folder_16ch_PATH)\n",
    "\n",
    "for url_distance, url_intensity in zip(lr_distance_names, lr_intensity_names):\n",
    "    distance_img = io.imread(lr_distance_folder + fr'\\{url_distance}')\n",
    "    intensity_img = io.imread(lr_intensity_folder + fr'\\{url_intensity}')\n",
    "    distance_intensity_image = np.dstack([distance_img, intensity_img])\n",
    "    name = url_distance.split(sep='.')[0] + '.npy'\n",
    "    np.save(new_folder_16ch_PATH + rf'\\{name}', distance_intensity_image)"
   ]
  },
  {
   "cell_type": "code",
   "execution_count": 9,
   "metadata": {},
   "outputs": [],
   "source": [
    "new_folder_64ch_PATH = os.path.join(folder_PATH, r'Datasets LIDAR\\kitti\\range_distance_intensity_64ch')\n",
    "if not os.path.exists(new_folder_64ch_PATH):\n",
    "    os.makedirs(new_folder_64ch_PATH)\n",
    "\n",
    "for url_distance, url_intensity in zip(hr_distance_names, hr_intensity_names):\n",
    "    distance_img = io.imread(hr_distance_folder + fr'\\{url_distance}')\n",
    "    intensity_img = io.imread(hr_intensity_folder + fr'\\{url_intensity}')\n",
    "    distance_intensity_image = np.dstack([distance_img, intensity_img])\n",
    "    name = url_distance.split(sep='.')[0] + '.npy'\n",
    "    np.save(new_folder_64ch_PATH + rf'\\{name}', distance_intensity_image)"
   ]
  }
 ],
 "metadata": {
  "kernelspec": {
   "display_name": "Python 3.9.12 ('gan_train')",
   "language": "python",
   "name": "python3"
  },
  "language_info": {
   "codemirror_mode": {
    "name": "ipython",
    "version": 3
   },
   "file_extension": ".py",
   "mimetype": "text/x-python",
   "name": "python",
   "nbconvert_exporter": "python",
   "pygments_lexer": "ipython3",
   "version": "3.9.12"
  },
  "orig_nbformat": 4,
  "vscode": {
   "interpreter": {
    "hash": "66c0af5d28438b24b9b60edb56077e2a79968ab2fdf6c76b0b9657ef9787fdb5"
   }
  }
 },
 "nbformat": 4,
 "nbformat_minor": 2
}
